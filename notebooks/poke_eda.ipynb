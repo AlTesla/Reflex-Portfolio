{
 "cells": [
  {
   "cell_type": "code",
   "execution_count": 17,
   "metadata": {},
   "outputs": [],
   "source": [
    "import pandas as pd\n",
    "\n",
    "\n",
    "path = \"https://mydatabucket-altesla.s3.us-west-1.amazonaws.com/Pokemon_data.csv\"\n"
   ]
  },
  {
   "cell_type": "code",
   "execution_count": 18,
   "metadata": {},
   "outputs": [],
   "source": [
    "poke_frame = pd.read_csv(path)"
   ]
  },
  {
   "cell_type": "code",
   "execution_count": 19,
   "metadata": {},
   "outputs": [
    {
     "data": {
      "text/html": [
       "<div>\n",
       "<style scoped>\n",
       "    .dataframe tbody tr th:only-of-type {\n",
       "        vertical-align: middle;\n",
       "    }\n",
       "\n",
       "    .dataframe tbody tr th {\n",
       "        vertical-align: top;\n",
       "    }\n",
       "\n",
       "    .dataframe thead th {\n",
       "        text-align: right;\n",
       "    }\n",
       "</style>\n",
       "<table border=\"1\" class=\"dataframe\">\n",
       "  <thead>\n",
       "    <tr style=\"text-align: right;\">\n",
       "      <th></th>\n",
       "      <th>Unnamed: 0</th>\n",
       "      <th>ID</th>\n",
       "      <th>Name</th>\n",
       "      <th>Total</th>\n",
       "      <th>HP</th>\n",
       "      <th>Attack</th>\n",
       "      <th>Defense</th>\n",
       "      <th>SpAtk</th>\n",
       "      <th>SpDef</th>\n",
       "      <th>Speed</th>\n",
       "      <th>Type1</th>\n",
       "      <th>Type2</th>\n",
       "      <th>Height</th>\n",
       "      <th>Weight</th>\n",
       "      <th>ImageUrl</th>\n",
       "      <th>Generation</th>\n",
       "    </tr>\n",
       "  </thead>\n",
       "  <tbody>\n",
       "    <tr>\n",
       "      <th>0</th>\n",
       "      <td>0</td>\n",
       "      <td>1</td>\n",
       "      <td>Bulbasaur</td>\n",
       "      <td>318</td>\n",
       "      <td>45</td>\n",
       "      <td>49</td>\n",
       "      <td>49</td>\n",
       "      <td>65</td>\n",
       "      <td>65</td>\n",
       "      <td>45</td>\n",
       "      <td>Grass</td>\n",
       "      <td>Poison</td>\n",
       "      <td>0.7</td>\n",
       "      <td>6.9</td>\n",
       "      <td>https://assets.pokemon.com/assets/cms2/img/pok...</td>\n",
       "      <td>1st</td>\n",
       "    </tr>\n",
       "    <tr>\n",
       "      <th>1</th>\n",
       "      <td>1</td>\n",
       "      <td>2</td>\n",
       "      <td>Ivysaur</td>\n",
       "      <td>405</td>\n",
       "      <td>60</td>\n",
       "      <td>62</td>\n",
       "      <td>63</td>\n",
       "      <td>80</td>\n",
       "      <td>80</td>\n",
       "      <td>60</td>\n",
       "      <td>Grass</td>\n",
       "      <td>Poison</td>\n",
       "      <td>1.0</td>\n",
       "      <td>13.0</td>\n",
       "      <td>https://assets.pokemon.com/assets/cms2/img/pok...</td>\n",
       "      <td>1st</td>\n",
       "    </tr>\n",
       "    <tr>\n",
       "      <th>2</th>\n",
       "      <td>2</td>\n",
       "      <td>3</td>\n",
       "      <td>Venusaur</td>\n",
       "      <td>525</td>\n",
       "      <td>80</td>\n",
       "      <td>82</td>\n",
       "      <td>83</td>\n",
       "      <td>100</td>\n",
       "      <td>100</td>\n",
       "      <td>80</td>\n",
       "      <td>Grass</td>\n",
       "      <td>Poison</td>\n",
       "      <td>2.0</td>\n",
       "      <td>100.0</td>\n",
       "      <td>https://assets.pokemon.com/assets/cms2/img/pok...</td>\n",
       "      <td>1st</td>\n",
       "    </tr>\n",
       "    <tr>\n",
       "      <th>3</th>\n",
       "      <td>3</td>\n",
       "      <td>3</td>\n",
       "      <td>Mega Venusaur</td>\n",
       "      <td>625</td>\n",
       "      <td>80</td>\n",
       "      <td>100</td>\n",
       "      <td>123</td>\n",
       "      <td>122</td>\n",
       "      <td>120</td>\n",
       "      <td>80</td>\n",
       "      <td>Grass</td>\n",
       "      <td>Poison</td>\n",
       "      <td>2.4</td>\n",
       "      <td>155.5</td>\n",
       "      <td>https://assets.pokemon.com/assets/cms2/img/pok...</td>\n",
       "      <td>6th</td>\n",
       "    </tr>\n",
       "    <tr>\n",
       "      <th>4</th>\n",
       "      <td>4</td>\n",
       "      <td>4</td>\n",
       "      <td>Charmander</td>\n",
       "      <td>309</td>\n",
       "      <td>39</td>\n",
       "      <td>52</td>\n",
       "      <td>43</td>\n",
       "      <td>60</td>\n",
       "      <td>50</td>\n",
       "      <td>65</td>\n",
       "      <td>Fire</td>\n",
       "      <td>none</td>\n",
       "      <td>0.6</td>\n",
       "      <td>8.5</td>\n",
       "      <td>https://assets.pokemon.com/assets/cms2/img/pok...</td>\n",
       "      <td>1st</td>\n",
       "    </tr>\n",
       "  </tbody>\n",
       "</table>\n",
       "</div>"
      ],
      "text/plain": [
       "   Unnamed: 0  ID           Name  Total  HP  Attack  Defense  SpAtk  SpDef  \\\n",
       "0           0   1      Bulbasaur    318  45      49       49     65     65   \n",
       "1           1   2        Ivysaur    405  60      62       63     80     80   \n",
       "2           2   3       Venusaur    525  80      82       83    100    100   \n",
       "3           3   3  Mega Venusaur    625  80     100      123    122    120   \n",
       "4           4   4     Charmander    309  39      52       43     60     50   \n",
       "\n",
       "   Speed  Type1   Type2  Height  Weight  \\\n",
       "0     45  Grass  Poison     0.7     6.9   \n",
       "1     60  Grass  Poison     1.0    13.0   \n",
       "2     80  Grass  Poison     2.0   100.0   \n",
       "3     80  Grass  Poison     2.4   155.5   \n",
       "4     65   Fire    none     0.6     8.5   \n",
       "\n",
       "                                            ImageUrl Generation  \n",
       "0  https://assets.pokemon.com/assets/cms2/img/pok...        1st  \n",
       "1  https://assets.pokemon.com/assets/cms2/img/pok...        1st  \n",
       "2  https://assets.pokemon.com/assets/cms2/img/pok...        1st  \n",
       "3  https://assets.pokemon.com/assets/cms2/img/pok...        6th  \n",
       "4  https://assets.pokemon.com/assets/cms2/img/pok...        1st  "
      ]
     },
     "execution_count": 19,
     "metadata": {},
     "output_type": "execute_result"
    }
   ],
   "source": [
    "poke_frame.head()"
   ]
  },
  {
   "cell_type": "code",
   "execution_count": 20,
   "metadata": {},
   "outputs": [],
   "source": [
    "poke_frame.drop(\"Unnamed: 0\", axis=1, inplace=True)"
   ]
  },
  {
   "cell_type": "code",
   "execution_count": 21,
   "metadata": {},
   "outputs": [
    {
     "name": "stdout",
     "output_type": "stream",
     "text": [
      "['1st', '6th', '7th', '8th', '2nd', '9th', '3rd', '4th', '5th']\n"
     ]
    }
   ],
   "source": [
    "gen = poke_frame[\"Generation\"].drop_duplicates().values.tolist()\n",
    "print(gen)"
   ]
  },
  {
   "cell_type": "code",
   "execution_count": 22,
   "metadata": {},
   "outputs": [],
   "source": [
    "class PokeState():\n",
    "    selected_gen: str = '2nd'"
   ]
  },
  {
   "cell_type": "code",
   "execution_count": 23,
   "metadata": {},
   "outputs": [
    {
     "name": "stdout",
     "output_type": "stream",
     "text": [
      "4th\n"
     ]
    }
   ],
   "source": [
    "print(PokeState.selected_gen)"
   ]
  },
  {
   "cell_type": "code",
   "execution_count": 24,
   "metadata": {},
   "outputs": [],
   "source": [
    "chosen_gen = PokeState.selected_gen"
   ]
  },
  {
   "cell_type": "code",
   "execution_count": 25,
   "metadata": {},
   "outputs": [
    {
     "name": "stdout",
     "output_type": "stream",
     "text": [
      "Arceus\n",
      "<class 'str'>\n"
     ]
    }
   ],
   "source": [
    "chosen_gen = PokeState.selected_gen\n",
    "gen_df = poke_frame[poke_frame['Generation']== chosen_gen]\n",
    "strongest_row = gen_df.loc[gen_df['Total'].idxmax()]\n",
    "strongest_name = strongest_row['Name']\n",
    "print(strongest_name)\n",
    "print(type(chosen_gen))"
   ]
  },
  {
   "cell_type": "code",
   "execution_count": 26,
   "metadata": {},
   "outputs": [
    {
     "data": {
      "text/html": [
       "<div>\n",
       "<style scoped>\n",
       "    .dataframe tbody tr th:only-of-type {\n",
       "        vertical-align: middle;\n",
       "    }\n",
       "\n",
       "    .dataframe tbody tr th {\n",
       "        vertical-align: top;\n",
       "    }\n",
       "\n",
       "    .dataframe thead th {\n",
       "        text-align: right;\n",
       "    }\n",
       "</style>\n",
       "<table border=\"1\" class=\"dataframe\">\n",
       "  <thead>\n",
       "    <tr style=\"text-align: right;\">\n",
       "      <th></th>\n",
       "      <th>ID</th>\n",
       "      <th>Name</th>\n",
       "      <th>Total</th>\n",
       "      <th>HP</th>\n",
       "      <th>Attack</th>\n",
       "      <th>Defense</th>\n",
       "      <th>SpAtk</th>\n",
       "      <th>SpDef</th>\n",
       "      <th>Speed</th>\n",
       "      <th>Type1</th>\n",
       "      <th>Type2</th>\n",
       "      <th>Height</th>\n",
       "      <th>Weight</th>\n",
       "      <th>ImageUrl</th>\n",
       "      <th>Generation</th>\n",
       "    </tr>\n",
       "  </thead>\n",
       "  <tbody>\n",
       "    <tr>\n",
       "      <th>481</th>\n",
       "      <td>387</td>\n",
       "      <td>Turtwig</td>\n",
       "      <td>318</td>\n",
       "      <td>55</td>\n",
       "      <td>68</td>\n",
       "      <td>64</td>\n",
       "      <td>45</td>\n",
       "      <td>55</td>\n",
       "      <td>31</td>\n",
       "      <td>Grass</td>\n",
       "      <td>none</td>\n",
       "      <td>0.4</td>\n",
       "      <td>10.2</td>\n",
       "      <td>https://assets.pokemon.com/assets/cms2/img/pok...</td>\n",
       "      <td>4th</td>\n",
       "    </tr>\n",
       "    <tr>\n",
       "      <th>482</th>\n",
       "      <td>388</td>\n",
       "      <td>Grotle</td>\n",
       "      <td>405</td>\n",
       "      <td>75</td>\n",
       "      <td>89</td>\n",
       "      <td>85</td>\n",
       "      <td>55</td>\n",
       "      <td>65</td>\n",
       "      <td>36</td>\n",
       "      <td>Grass</td>\n",
       "      <td>none</td>\n",
       "      <td>1.1</td>\n",
       "      <td>97.0</td>\n",
       "      <td>https://assets.pokemon.com/assets/cms2/img/pok...</td>\n",
       "      <td>4th</td>\n",
       "    </tr>\n",
       "    <tr>\n",
       "      <th>483</th>\n",
       "      <td>389</td>\n",
       "      <td>Torterra</td>\n",
       "      <td>525</td>\n",
       "      <td>95</td>\n",
       "      <td>109</td>\n",
       "      <td>105</td>\n",
       "      <td>75</td>\n",
       "      <td>85</td>\n",
       "      <td>56</td>\n",
       "      <td>Grass</td>\n",
       "      <td>Ground</td>\n",
       "      <td>2.2</td>\n",
       "      <td>310.0</td>\n",
       "      <td>https://assets.pokemon.com/assets/cms2/img/pok...</td>\n",
       "      <td>4th</td>\n",
       "    </tr>\n",
       "    <tr>\n",
       "      <th>484</th>\n",
       "      <td>390</td>\n",
       "      <td>Chimchar</td>\n",
       "      <td>309</td>\n",
       "      <td>44</td>\n",
       "      <td>58</td>\n",
       "      <td>44</td>\n",
       "      <td>58</td>\n",
       "      <td>44</td>\n",
       "      <td>61</td>\n",
       "      <td>Fire</td>\n",
       "      <td>none</td>\n",
       "      <td>0.5</td>\n",
       "      <td>6.2</td>\n",
       "      <td>https://assets.pokemon.com/assets/cms2/img/pok...</td>\n",
       "      <td>4th</td>\n",
       "    </tr>\n",
       "    <tr>\n",
       "      <th>485</th>\n",
       "      <td>391</td>\n",
       "      <td>Monferno</td>\n",
       "      <td>405</td>\n",
       "      <td>64</td>\n",
       "      <td>78</td>\n",
       "      <td>52</td>\n",
       "      <td>78</td>\n",
       "      <td>52</td>\n",
       "      <td>81</td>\n",
       "      <td>Fire</td>\n",
       "      <td>Fighting</td>\n",
       "      <td>0.9</td>\n",
       "      <td>22.0</td>\n",
       "      <td>https://assets.pokemon.com/assets/cms2/img/pok...</td>\n",
       "      <td>4th</td>\n",
       "    </tr>\n",
       "  </tbody>\n",
       "</table>\n",
       "</div>"
      ],
      "text/plain": [
       "      ID      Name  Total  HP  Attack  Defense  SpAtk  SpDef  Speed  Type1  \\\n",
       "481  387   Turtwig    318  55      68       64     45     55     31  Grass   \n",
       "482  388    Grotle    405  75      89       85     55     65     36  Grass   \n",
       "483  389  Torterra    525  95     109      105     75     85     56  Grass   \n",
       "484  390  Chimchar    309  44      58       44     58     44     61   Fire   \n",
       "485  391  Monferno    405  64      78       52     78     52     81   Fire   \n",
       "\n",
       "        Type2  Height  Weight  \\\n",
       "481      none     0.4    10.2   \n",
       "482      none     1.1    97.0   \n",
       "483    Ground     2.2   310.0   \n",
       "484      none     0.5     6.2   \n",
       "485  Fighting     0.9    22.0   \n",
       "\n",
       "                                              ImageUrl Generation  \n",
       "481  https://assets.pokemon.com/assets/cms2/img/pok...        4th  \n",
       "482  https://assets.pokemon.com/assets/cms2/img/pok...        4th  \n",
       "483  https://assets.pokemon.com/assets/cms2/img/pok...        4th  \n",
       "484  https://assets.pokemon.com/assets/cms2/img/pok...        4th  \n",
       "485  https://assets.pokemon.com/assets/cms2/img/pok...        4th  "
      ]
     },
     "execution_count": 26,
     "metadata": {},
     "output_type": "execute_result"
    }
   ],
   "source": [
    "gen_df.head()"
   ]
  },
  {
   "cell_type": "code",
   "execution_count": 27,
   "metadata": {},
   "outputs": [
    {
     "data": {
      "text/html": [
       "<div>\n",
       "<style scoped>\n",
       "    .dataframe tbody tr th:only-of-type {\n",
       "        vertical-align: middle;\n",
       "    }\n",
       "\n",
       "    .dataframe tbody tr th {\n",
       "        vertical-align: top;\n",
       "    }\n",
       "\n",
       "    .dataframe thead th {\n",
       "        text-align: right;\n",
       "    }\n",
       "</style>\n",
       "<table border=\"1\" class=\"dataframe\">\n",
       "  <thead>\n",
       "    <tr style=\"text-align: right;\">\n",
       "      <th></th>\n",
       "      <th>ID</th>\n",
       "      <th>Name</th>\n",
       "      <th>Total</th>\n",
       "      <th>HP</th>\n",
       "      <th>Attack</th>\n",
       "      <th>Defense</th>\n",
       "      <th>SpAtk</th>\n",
       "      <th>SpDef</th>\n",
       "      <th>Speed</th>\n",
       "      <th>Type1</th>\n",
       "      <th>Type2</th>\n",
       "      <th>Height</th>\n",
       "      <th>Weight</th>\n",
       "      <th>ImageUrl</th>\n",
       "      <th>Generation</th>\n",
       "    </tr>\n",
       "  </thead>\n",
       "  <tbody>\n",
       "    <tr>\n",
       "      <th>605</th>\n",
       "      <td>493</td>\n",
       "      <td>Arceus</td>\n",
       "      <td>720</td>\n",
       "      <td>120</td>\n",
       "      <td>120</td>\n",
       "      <td>120</td>\n",
       "      <td>120</td>\n",
       "      <td>120</td>\n",
       "      <td>120</td>\n",
       "      <td>Normal</td>\n",
       "      <td>none</td>\n",
       "      <td>3.2</td>\n",
       "      <td>320.0</td>\n",
       "      <td>https://assets.pokemon.com/assets/cms2/img/pok...</td>\n",
       "      <td>4th</td>\n",
       "    </tr>\n",
       "  </tbody>\n",
       "</table>\n",
       "</div>"
      ],
      "text/plain": [
       "      ID    Name  Total   HP  Attack  Defense  SpAtk  SpDef  Speed   Type1  \\\n",
       "605  493  Arceus    720  120     120      120    120    120    120  Normal   \n",
       "\n",
       "    Type2  Height  Weight                                           ImageUrl  \\\n",
       "605  none     3.2   320.0  https://assets.pokemon.com/assets/cms2/img/pok...   \n",
       "\n",
       "    Generation  \n",
       "605        4th  "
      ]
     },
     "execution_count": 27,
     "metadata": {},
     "output_type": "execute_result"
    }
   ],
   "source": [
    "strongest=gen_df[gen_df.Total == gen_df.Total.max()]\n",
    "strongest"
   ]
  },
  {
   "cell_type": "code",
   "execution_count": 28,
   "metadata": {},
   "outputs": [],
   "source": [
    "strongest_name = strongest['Name'].squeeze()\n"
   ]
  },
  {
   "cell_type": "code",
   "execution_count": 29,
   "metadata": {},
   "outputs": [
    {
     "name": "stdout",
     "output_type": "stream",
     "text": [
      "Arceus\n"
     ]
    }
   ],
   "source": [
    "print(f\"{strongest_name}\")"
   ]
  },
  {
   "cell_type": "code",
   "execution_count": 30,
   "metadata": {},
   "outputs": [
    {
     "data": {
      "text/plain": [
       "ID           493\n",
       "Name      Arceus\n",
       "Total        720\n",
       "HP           120\n",
       "Attack       120\n",
       "Name: 605, dtype: object"
      ]
     },
     "execution_count": 30,
     "metadata": {},
     "output_type": "execute_result"
    }
   ],
   "source": [
    "strongest_row = gen_df.loc[gen_df['Total'].idxmax()]\n",
    "strongest_row.head()"
   ]
  },
  {
   "cell_type": "code",
   "execution_count": 31,
   "metadata": {},
   "outputs": [],
   "source": [
    "strongest_name = strongest_row['ImageUrl']"
   ]
  },
  {
   "cell_type": "code",
   "execution_count": 32,
   "metadata": {},
   "outputs": [
    {
     "name": "stdout",
     "output_type": "stream",
     "text": [
      "https://assets.pokemon.com/assets/cms2/img/pokedex/full/493.png\n",
      "<class 'str'>\n"
     ]
    }
   ],
   "source": [
    "print(strongest_name)\n",
    "print(type(strongest_name))"
   ]
  }
 ],
 "metadata": {
  "kernelspec": {
   "display_name": "venv",
   "language": "python",
   "name": "python3"
  },
  "language_info": {
   "codemirror_mode": {
    "name": "ipython",
    "version": 3
   },
   "file_extension": ".py",
   "mimetype": "text/x-python",
   "name": "python",
   "nbconvert_exporter": "python",
   "pygments_lexer": "ipython3",
   "version": "3.12.2"
  }
 },
 "nbformat": 4,
 "nbformat_minor": 2
}
